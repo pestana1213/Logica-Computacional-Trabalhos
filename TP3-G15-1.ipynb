{
  "cells": [
    {
      "cell_type": "markdown",
      "id": "069617b2",
      "metadata": {
        "id": "069617b2"
      },
      "source": [
        "<br>\n",
        "\n",
        "<div style =\"width: 100%;\">\n",
        "<table style =\"width: 100%;background-color:float:center;\">\n",
        "<tr>\n",
        "\n",
        "</tr>\n",
        "    \n",
        "<tr>\n",
        "        \n",
        "<td>\n",
        "<div style=\"font-size: 21px;Margin-left:-10px;\">\n",
        "<b>Lógica Computacional TP1<b>\n",
        "</div>\n",
        "    <br>\n",
        "    <br>\n",
        "<div style=\"font-size: 16px;\">\n",
        "    \n",
        "Realizado por:\n",
        "\n",
        "Miguel Gonçalves a90416\n",
        " \n",
        "João Nogueira a87973\n",
        "</div>\n",
        "</td>\n",
        "<td >\n",
        "<div style=\"display:inline-block; float:right;Margin-right:0px;Margin-top:20px;\">\n",
        "<img src=\"https://www.ecum.uminho.pt/SiteAssets/ECUM-PT.png\" width=\"260\" height=\"120\">\n",
        "<div>\n",
        "</td>\n",
        "</tr>\n",
        "</table>\n",
        "</div>"
      ]
    },
    {
      "cell_type": "markdown",
      "id": "7d0e1975",
      "metadata": {
        "id": "7d0e1975"
      },
      "source": [
        "# Trabalho 3 "
      ]
    },
    {
      "cell_type": "markdown",
      "id": "db7df809",
      "metadata": {
        "id": "db7df809"
      },
      "source": [
        "\n",
        "> O objetivo deste trabalho é o uso de SMT’s para modelar e verificar propriedades lógicas de sistemas dinâmicos. O trabalho pode ser executado em Z3 , como o seu “wrapper” específico, ou desejavelmente com o “wrapper” PySMT , usando  Z3 e MatSAT e comparando os resultados.\n",
        "\n",
        "\n",
        "No contexto do sistema de travagem ABS (“Anti-Lock Breaking System”), pretende-se construir um autómato híbrido que descreva o sistema e que  possa ser usado para verificar as suas propriedades dinâmicas.\n",
        "\n",
        "    \n",
        "1. A componente discreta do autómato contém os modos:  `Start`,  `Free`,  `Stopping`, `Blocked`, e `Stopped`. No modo `Free`  não existe qualquer força de travagem; no modo `Stopping` aplica-se a força de travagem alta; no modo `Blocked` as rodas estão bloqueadas em relação ao corpo mas o veículo  desloca-se; no modo `Stopped` o veículo está imobilizado.\n",
        "\n",
        "\n",
        "2. A componente contínua  do autómato usa variáveis contínuas $\\,V,v\\,$ para descrever a  `velocidade do corpo`  do veículo em relação ao solo e a `velocidade linear das rodas` também em relação ao solo. \n",
        "    Assume-se que o sistema de travagem exerce uma força de atrito  nos travões proporcional à diferença das duas velocidades.  A dinâmica contínua está descrita  abaixo no bloco Equaçoes de Fluxo.\n",
        "\n",
        "\n",
        "3. Os “switchs” (“jumps”) são a componente de projeto deste trabalho; cabe ao aluno definir quais devem ser estas  condições de modo a que o sistema tenha um comportamento desejável: imobilize-se depressa e não “derrape” muito.\n",
        "\n",
        "\n",
        "4. Faça\n",
        "    1. Defina um autómato híbrido que descreva a dinâmica do sistema segundo as notas abaixo indicadas e com os “switchs” por si escolhidos.\n",
        "    2. Modele em lógica temporal linear LT  propriedades que caracterizam o comportamento desejável do sistema. Nomeadamente \n",
        "        1. ”o veículo imobiliza-se completamente em menos de $t$ segundos” \n",
        "        2. “a velocidade $V$ diminui sempre com o tempo”.\n",
        "    3. Codifique em SMT’s o modelo que definiu em a.\n",
        "    4. Codifique a verificação das propriedades temporais que definiu em b.\n",
        "\n"
      ]
    },
    {
      "cell_type": "markdown",
      "id": "68be7929",
      "metadata": {
        "id": "68be7929"
      },
      "source": [
        "### Equações de Fluxo \n",
        "\n",
        "1. Durante  a travagem não existe qualquer  força no sistema excepto as forças de atrito. Quando uma superfície se desloca em relação à outra, a força de atrito  é proporcional à força de compressão entre elas. \n",
        "2. No contacto rodas/solo o atrito é constante porque a força de compressão é o peso; tem-se $f = a\\cdot P$ sendo  $a$ a constante de atrito e $P$ o peso. Ambos são fixos e independentes do modo.\n",
        "3. No contacto corpo/rodas,  a força de compressão é a força de travagem que aqui se assume como proporcional à diferença de velocidades  $F =  c\\cdot (V-v)$.  A  constante de proporcionalidade $c$ depende do modo: é elevada no modo `Stopping` e baixa nos outros.\n",
        "4. Existe um atrito no contacto corpo/ar  que é proporcional ao quadrado da  velocidade do corpo. A constante de proporcionalidade $\\,b\\,$ é independente dos modos.\n",
        "\n",
        "Desta forma as equações que traduzem a dinâmica  do sistema são, em todos os modo excepto `Blocked`,\n",
        "\n",
        "-     $\\begin{array}{rcl} \\dot{V} & = & - c\\cdot(V-v) - b\\cdot V^2\\\\ \\dot{v} & = & -a\\cdot P  + c\\cdot(V-v) \\end{array}$  \n",
        "\n",
        "e , no modo `Blocked`,  a dinâmica do sistema é  regida por\n",
        "\n",
        "-        $(V = v) \\;\\land\\; (\\,\\dot{V}\\,=\\, -a\\cdot P - b\\cdot V^2\\,)$\n",
        "\n",
        "No instante inicial assume-se $\\,V = v\\,=\\,V_0$  ,  em que a velocidade $V_0$ é o “input” do problema."
      ]
    },
    {
      "cell_type": "markdown",
      "id": "87961128",
      "metadata": {
        "id": "87961128"
      },
      "source": [
        "### Para iniciar o automato temos: \n",
        "\n",
        "1. V = v = $V_0$ $\\;\\land\\;$ $V_0\\ge0$ $\\;\\land\\;$ F=0  $\\;\\land\\;$ t=0 $\\;\\land\\;$ m = Start\n",
        "\n",
        "\n",
        "2. O peso do carro é P = 1500kg e a constante de atrito 'a' é 0.7\n",
        "\n",
        "Onde V é a velocidade do corpo, v a velocidade das rodas, F a força de travagem, t o tempo decorrido e m o modo do automato\n",
        "\n",
        "### Transições untimed: \n",
        "\n",
        "$ m = Start \\;\\land\\; m' = Breaking \\;\\land\\; V' = V \\;\\land\\; v' = v \\;\\land\\; t' = t \\;\\land\\; timer = 0 \\\\\n",
        "\\vee\\\\\n",
        "m = Breaking \\;\\land\\; m' = Blocked \\;\\land\\; V' = V \\;\\land\\; v' = v \\;\\land\\; V' = v'  \\;\\land\\; t' = t \\;\\land\\; timer = 0 \\\\\n",
        "\\vee\\\\\n",
        "m = Breaking \\;\\land\\; m' = Stopped \\;\\land\\; V' = V \\;\\land\\; v' = V' = 0 \\;\\land\\; t' = t \\;\\land\\; timer = 0  \\\\\n",
        "\\vee\\\\\n",
        "m = Blocked \\;\\land\\; m' = Free \\;\\land\\; V' = V  \\;\\land\\; v' = v \\;\\land\\; V>0 \\;\\land\\; t' = t \\;\\land\\; timer = 0  \\\\\n",
        "\\vee\\\\\n",
        "m = Free \\;\\land\\; m' = Breaking \\;\\land\\; V' = V \\;\\land\\; v' = v \\;\\land\\; t' = t \\;\\land\\; timer = 0  \\\\\n",
        "\\vee\\\\\n",
        "m = Blocked \\;\\land\\; m' = Stopped \\;\\land\\; V' = V \\;\\land\\; v' = v \\;\\land\\; v' = V' = 0 \\;\\land\\; t' = t \\;\\land\\; timer = 0 \n",
        "$\n",
        "\n",
        "\n",
        "### Transiçoes timed: \n",
        "\n",
        "$ m = Breaking \\;\\land\\; m' = Breaking \\;\\land\\; (V'- V) = -cBreaking\\cdot(V-v)\\cdot(t'-t) -b\\cdot(t'-t) \\;\\land\\;  (v'-v)=-a\\cdot P \\cdot (t'-t) + cBreaking\\cdot (V-v)\\cdot(t'-t) \\;\\land\\; timer = 0  $\n",
        "\n",
        "$ m = Free \\;\\land\\; m' = Free  \\;\\land\\; (V'- V) = -cFree\\cdot(V-v)\\cdot(t'-t) -b\\cdot(t'-t) \\;\\land\\;  (v'-v)=-a\\cdot P \\cdot (t'-t) + cFree \\cdot (V-v)\\cdot(t'-t) \\;\\land\\; timer' = timer + t' - t \\;\\land\\; timer' \\le 0.05    $\n",
        "\n",
        "$ m = Stopped \\;\\land\\; m' = Stopped \\;\\land\\; V'=V \\;\\land\\; v'=v \\;\\land\\; t'=t \\;\\land\\; timer = 0 $ \n",
        "\n",
        "$ m = Locked \\;\\land\\; m' = Locked\\;\\land\\; V=v \\;\\land\\; (V'-V) = -a\\cdot P \\cdot(t'-t) -b\\cdot (t'-t) \\;\\land\\; t'>t \\;\\land\\; timer' = timer + t' - t \\;\\land\\; timer' \\le 0.05 $ "
      ]
    },
    {
      "cell_type": "code",
      "execution_count": null,
      "id": "840d8761",
      "metadata": {
        "id": "840d8761"
      },
      "outputs": [],
      "source": [
        "from z3 import *\n",
        "\n",
        "a = 0.7\n",
        "b = 0.5\n",
        "P = 1500\n",
        "cFree = 0.1\n",
        "cBlocked = 0.2\n",
        "cBreaking = 0.8\n",
        "v0 = 100\n",
        "\n",
        "Mode, (START,FREE,BREAKING,BLOCKED,STOPPED) = EnumSort('Mode', ('START','FREE','BREAKING','LOCKED','STOPPED'))"
      ]
    },
    {
      "cell_type": "code",
      "execution_count": null,
      "id": "0d8d07b8",
      "metadata": {
        "id": "0d8d07b8"
      },
      "outputs": [],
      "source": [
        "def declare(i):\n",
        "    s = {}\n",
        "    s['t'] = Real('t'+str(i)) #Variavel continua\n",
        "    s['m'] = Const('m'+str(i),Mode) #Variavel discreta\n",
        "    s['v'] = Real('v'+str(i))\n",
        "    s['V'] = Real('V'+str(i))\n",
        "    s['Timer'] = Real('Timer'+str(i))\n",
        "    return s\n",
        "def init(s):\n",
        "    return And(s['t'] == 0, s['V'] == v0, s['m'] == START,s['v'] == v0,s['Timer']==0)\n",
        "\n",
        "def trans(s,p):\n",
        "    #Untimed\n",
        "    blocked2stopped = And(s['m'] == BLOCKED, p['m'] == STOPPED,p['V'] == s['V'],p['v'] == s['v'],p['v'] == 0,p['V'] == 0,p['t']==s['t'],p['Timer']==0)\n",
        "    start2breaking = And(s['m'] == START, p['m'] == BREAKING,s['V'] == p['V'],s['v']==p['v'],p['t']==s['t'],p['Timer']==0)\n",
        "    breaking2blocked = And(s['m'] == BREAKING, p['m'] == BLOCKED,p['V'] == s['V'],p['v'] == p['V'],p['t']==s['t'],p['Timer']==0)\n",
        "    breaking2stopped = And(s['m'] == BREAKING, p['m'] == STOPPED, p['V']==s['V'],p['v'] == s['v'],p['t']==s['t'],p['v'] == 0,p['V'] == 0,p['Timer']==0)\n",
        "    blocked2free = And(s['m'] == BLOCKED, p['m'] == FREE,s['V'] == p['V'],s['v']==p['v'],p['t']==s['t'],s['V']>0,p['Timer']==0)\n",
        "    free2breaking = And(s['m'] == FREE, p['m'] == BREAKING,p['V'] == s['V'],p['v']==s['v'],p['t']==s['t'],p['Timer']==0)\n",
        "    #Timed\n",
        "    breaking = And(s['m'] == BREAKING,p['m'] == BREAKING,p['t']>s['t'], p['V'] == s['V']\n",
        "                   -cBreaking*(p['t']-s['t'])*(s['V']-s['v'])-b*(p['t']-s['t']),p['v'] == s['v']-a*P*(p['t']-s['t'])+ \n",
        "                   cBreaking*(s['V']-s['v'])*(p['t']-s['t']),p['v']>=0,p['V']>=0,p['Timer']==0)\n",
        "    free = And(s['m'] == FREE,p['m'] == FREE, p['t']>s['t'],p['V']-s['V'] == -cFree*(p['t']-s['t'])*(s['V']-s['v'])-\n",
        "               b*(p['t']-s['t']),p['v']-s['v'] == -a*P*(p['t']-p['t'])+ cFree*(s['V']-s['v'])*(p['t']-s['t']),p['v']>=0,p['V']>=0,\n",
        "              p['Timer']==s['Timer']+p['t']-s['t'],p['Timer']>0,p['Timer']<0.05)\n",
        "    stopped = And(s['m'] == STOPPED,p['m'] == STOPPED,p['V']==0, p['v']==0,p['t']==s['t'],p['V']>=0,p['v']>=0,p['Timer']==0)\n",
        "    locked = And(s['m'] == BLOCKED,p['m'] == BLOCKED, s['V'] == s['v'], p['V'] == s['V']-a*P*(p['t']-s['t'])\n",
        "                 -b*(p['t']-s['t']),p['t']>s['t'],p['v']>=0,p['V']>=0,p['Timer']==s['Timer']+p['t']-s['t'],p['Timer']>0,p['Timer']<0.05,\n",
        "                p['v']==p['V'])\n",
        "    return Or(blocked2stopped,start2breaking,breaking2blocked,breaking2stopped,blocked2free,free2breaking,breaking,free,stopped,locked)"
      ]
    },
    {
      "cell_type": "code",
      "execution_count": null,
      "id": "68d01d18",
      "metadata": {
        "id": "68d01d18",
        "outputId": "0fc70cf0-7d36-4bc7-f6fa-36bddecafa4d"
      },
      "outputs": [
        {
          "name": "stdout",
          "output_type": "stream",
          "text": [
            "0\n",
            "t = 0.0\n",
            "m = START\n",
            "v = 100.0\n",
            "V = 100.0\n",
            "Timer = 0.0\n",
            "1\n",
            "t = 0.0\n",
            "m = BREAKING\n",
            "v = 100.0\n",
            "V = 100.0\n",
            "Timer = 0.0\n",
            "2\n",
            "t = 0.03125\n",
            "m = BREAKING\n",
            "v = 67.1875\n",
            "V = 99.984375\n",
            "Timer = 0.0\n",
            "3\n",
            "t = 0.0625\n",
            "m = BREAKING\n",
            "v = 35.194921875\n",
            "V = 99.148828125\n",
            "Timer = 0.0\n",
            "4\n",
            "t = 0.0625\n",
            "m = LOCKED\n",
            "v = 99.148828125\n",
            "V = 99.148828125\n",
            "Timer = 0.0\n",
            "5\n",
            "t = 0.09375\n",
            "m = LOCKED\n",
            "v = 66.320703125\n",
            "V = 66.320703125\n",
            "Timer = 0.03125\n",
            "6\n",
            "t = 0.109375\n",
            "m = LOCKED\n",
            "v = 49.906640625\n",
            "V = 49.906640625\n",
            "Timer = 0.046875\n",
            "7\n",
            "t = 0.111328125\n",
            "m = LOCKED\n",
            "v = 47.8548828125\n",
            "V = 47.8548828125\n",
            "Timer = 0.048828125\n",
            "8\n",
            "t = 0.111328125\n",
            "m = FREE\n",
            "v = 47.8548828125\n",
            "V = 47.8548828125\n",
            "Timer = 0.0\n"
          ]
        }
      ],
      "source": [
        "def gera_traco(declare,init,trans,k):\n",
        "    s = Solver()\n",
        "    # completar\n",
        "    traco = {}\n",
        "    for i in range(k):\n",
        "      traco[i] = declare(i)\n",
        "    s.add(init(traco[0]))\n",
        "    for i in range(k-1):\n",
        "      s.add(trans(traco[i],traco[i+1]))\n",
        "\n",
        "    status = s.check()\n",
        "\n",
        "    if status == sat:\n",
        "      m = s.model()\n",
        "      for i in range(k):\n",
        "        print(i)\n",
        "        for v in traco[i]:\n",
        "          if traco[i][v].sort() == RealSort():\n",
        "            print(v,'=',float(m[traco[i][v]].numerator_as_long())/float(m[traco[i][v]].denominator_as_long()))\n",
        "          else:\n",
        "            print(v,\"=\",m[traco[i][v]])\n",
        "\n",
        "    elif status == unsat:\n",
        "      print(\"Nao dá mene\")\n",
        "    else:\n",
        "      print(\"Não sei\")\n",
        "      \n",
        "\n",
        "\n",
        "gera_traco(declare,init,trans,9)"
      ]
    },
    {
      "cell_type": "markdown",
      "source": [
        "### Modelar em lógica temporal linear\n",
        "Em seguida vamos modelar em lógica temporal linear LT as propriedades que caracterizam o comportamento desejavel do sistema, nomeadamente:\n",
        "\n",
        "* O veículo imobiliza-se completamente em menos de t segundos:\n",
        "\n",
        "<center>$G((M = Stopped) → (T < Tempo))$</center>\n",
        "\n",
        "* A velocidade V diminui sempre com o tempo:\n",
        "\n",
        "<center> $G((T' - T > 0) → (V' < V))$ </center>\n",
        "\n"
      ],
      "metadata": {
        "id": "ZasBYJq0HpA-"
      },
      "id": "ZasBYJq0HpA-"
    },
    {
      "cell_type": "code",
      "execution_count": null,
      "id": "885807b3",
      "metadata": {
        "id": "885807b3",
        "outputId": "a235badc-8ad6-48c7-b69c-e3c385be2b54"
      },
      "outputs": [
        {
          "name": "stdout",
          "output_type": "stream",
          "text": [
            "A propriedade pode ser verdade\n"
          ]
        }
      ],
      "source": [
        "def bmc_always(declare,init,trans,inv,K):\n",
        "    for k in range(1,K+1):\n",
        "        s = Solver()\n",
        "        # completar\n",
        "        traco = []\n",
        "        for i in range(k): \n",
        "            traco.append(declare(i))\n",
        "        s.add(init(traco[0]))\n",
        "\n",
        "        for i in range(k-1): \n",
        "            s.add(trans(traco[i],traco[i+1]))\n",
        "        s.add(Not(inv(traco[k-2],traco[k-1]))) #Procura onde falha\n",
        "        status = s.check() \n",
        "        if status == sat: \n",
        "            m = s.model()\n",
        "            for i in range(k): \n",
        "                print(i)\n",
        "                for v in traco[i]:\n",
        "                  if traco[i][v].sort() == RealSort():\n",
        "                    print(v,'=',float(m[traco[i][v]].numerator_as_long())/float(m[traco[i][v]].denominator_as_long()))\n",
        "                  else:\n",
        "                    print(v,\"=\",m[traco[i][v]])\n",
        "\n",
        "            return \n",
        "    print(\"A propriedade pode ser verdade\")\n",
        "def diminuiSempre(s,p): \n",
        "    return Implies(s['t']>p['t'],s['V']>p['V'])\n",
        "\n",
        "def tempo(s,p):\n",
        "    return Implies(s['m']==STOPPED,s['t']<=200)\n",
        "\n",
        "bmc_always(declare,init,trans,diminuiSempre,9)"
      ]
    },
    {
      "cell_type": "code",
      "execution_count": null,
      "id": "93fd39a4",
      "metadata": {
        "id": "93fd39a4",
        "outputId": "77bce026-6bf2-4d06-cfe4-79cf966949cd"
      },
      "outputs": [
        {
          "name": "stdout",
          "output_type": "stream",
          "text": [
            "A propriedade pode ser verdade\n"
          ]
        }
      ],
      "source": [
        "bmc_always(declare,init,trans,tempo,9)"
      ]
    }
  ],
  "metadata": {
    "kernelspec": {
      "display_name": "Python 3",
      "language": "python",
      "name": "python3"
    },
    "language_info": {
      "codemirror_mode": {
        "name": "ipython",
        "version": 3
      },
      "file_extension": ".py",
      "mimetype": "text/x-python",
      "name": "python",
      "nbconvert_exporter": "python",
      "pygments_lexer": "ipython3",
      "version": "3.8.8"
    },
    "colab": {
      "name": "TP3.ipynb",
      "provenance": [],
      "collapsed_sections": []
    }
  },
  "nbformat": 4,
  "nbformat_minor": 5
}